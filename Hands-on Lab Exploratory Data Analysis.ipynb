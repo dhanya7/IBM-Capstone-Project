{
 "cells": [
  {
   "cell_type": "markdown",
   "metadata": {},
   "source": [
    "<p style=\"text-align:center\">\n",
    "    <a href=\"https://skills.network\" target=\"_blank\">\n",
    "    <img src=\"https://cf-courses-data.s3.us.cloud-object-storage.appdomain.cloud/assets/logos/SN_web_lightmode.png\" width=\"200\" alt=\"Skills Network Logo\"  />\n",
    "    </a>\n",
    "</p>\n"
   ]
  },
  {
   "cell_type": "markdown",
   "metadata": {},
   "source": [
    "# **Lab: Exploratory Data Analysis**\n"
   ]
  },
  {
   "cell_type": "markdown",
   "metadata": {},
   "source": [
    "Estimated time needed: **30** minutes\n"
   ]
  },
  {
   "cell_type": "markdown",
   "metadata": {},
   "source": [
    "In this lab, you will work with a cleaned dataset to perform Exploratory Data Analysis or EDA. \n"
   ]
  },
  {
   "cell_type": "markdown",
   "metadata": {},
   "source": [
    "## Objectives\n"
   ]
  },
  {
   "cell_type": "markdown",
   "metadata": {},
   "source": [
    "In this lab, you will perform the following:\n"
   ]
  },
  {
   "cell_type": "markdown",
   "metadata": {},
   "source": [
    "- Examine the structure of a dataset.\n",
    "\n",
    "- Handle missing values effectively.\n",
    "\n",
    "- Conduct summary statistics on key columns.\n",
    "\n",
    "- Analyze employment status, job satisfaction, programming language usage, and trends in remote work.\n"
   ]
  },
  {
   "cell_type": "markdown",
   "metadata": {},
   "source": [
    "## Hands on Lab\n"
   ]
  },
  {
   "cell_type": "markdown",
   "metadata": {},
   "source": [
    "#### Step 1: Install and Import Libraries\n"
   ]
  },
  {
   "cell_type": "markdown",
   "metadata": {},
   "source": [
    "Install the necessary libraries for data manipulation and visualization.\n"
   ]
  },
  {
   "cell_type": "code",
   "execution_count": 3,
   "metadata": {},
   "outputs": [
    {
     "name": "stdout",
     "output_type": "stream",
     "text": [
      "Requirement already satisfied: pandas in /opt/conda/lib/python3.12/site-packages (2.2.3)\n",
      "Requirement already satisfied: numpy>=1.26.0 in /opt/conda/lib/python3.12/site-packages (from pandas) (2.2.4)\n",
      "Requirement already satisfied: python-dateutil>=2.8.2 in /opt/conda/lib/python3.12/site-packages (from pandas) (2.9.0.post0)\n",
      "Requirement already satisfied: pytz>=2020.1 in /opt/conda/lib/python3.12/site-packages (from pandas) (2024.2)\n",
      "Requirement already satisfied: tzdata>=2022.7 in /opt/conda/lib/python3.12/site-packages (from pandas) (2025.2)\n",
      "Requirement already satisfied: six>=1.5 in /opt/conda/lib/python3.12/site-packages (from python-dateutil>=2.8.2->pandas) (1.17.0)\n",
      "Requirement already satisfied: matplotlib in /opt/conda/lib/python3.12/site-packages (3.10.1)\n",
      "Requirement already satisfied: contourpy>=1.0.1 in /opt/conda/lib/python3.12/site-packages (from matplotlib) (1.3.2)\n",
      "Requirement already satisfied: cycler>=0.10 in /opt/conda/lib/python3.12/site-packages (from matplotlib) (0.12.1)\n",
      "Requirement already satisfied: fonttools>=4.22.0 in /opt/conda/lib/python3.12/site-packages (from matplotlib) (4.57.0)\n",
      "Requirement already satisfied: kiwisolver>=1.3.1 in /opt/conda/lib/python3.12/site-packages (from matplotlib) (1.4.8)\n",
      "Requirement already satisfied: numpy>=1.23 in /opt/conda/lib/python3.12/site-packages (from matplotlib) (2.2.4)\n",
      "Requirement already satisfied: packaging>=20.0 in /opt/conda/lib/python3.12/site-packages (from matplotlib) (24.2)\n",
      "Requirement already satisfied: pillow>=8 in /opt/conda/lib/python3.12/site-packages (from matplotlib) (11.2.1)\n",
      "Requirement already satisfied: pyparsing>=2.3.1 in /opt/conda/lib/python3.12/site-packages (from matplotlib) (3.2.3)\n",
      "Requirement already satisfied: python-dateutil>=2.7 in /opt/conda/lib/python3.12/site-packages (from matplotlib) (2.9.0.post0)\n",
      "Requirement already satisfied: six>=1.5 in /opt/conda/lib/python3.12/site-packages (from python-dateutil>=2.7->matplotlib) (1.17.0)\n",
      "Requirement already satisfied: seaborn in /opt/conda/lib/python3.12/site-packages (0.13.2)\n",
      "Requirement already satisfied: numpy!=1.24.0,>=1.20 in /opt/conda/lib/python3.12/site-packages (from seaborn) (2.2.4)\n",
      "Requirement already satisfied: pandas>=1.2 in /opt/conda/lib/python3.12/site-packages (from seaborn) (2.2.3)\n",
      "Requirement already satisfied: matplotlib!=3.6.1,>=3.4 in /opt/conda/lib/python3.12/site-packages (from seaborn) (3.10.1)\n",
      "Requirement already satisfied: contourpy>=1.0.1 in /opt/conda/lib/python3.12/site-packages (from matplotlib!=3.6.1,>=3.4->seaborn) (1.3.2)\n",
      "Requirement already satisfied: cycler>=0.10 in /opt/conda/lib/python3.12/site-packages (from matplotlib!=3.6.1,>=3.4->seaborn) (0.12.1)\n",
      "Requirement already satisfied: fonttools>=4.22.0 in /opt/conda/lib/python3.12/site-packages (from matplotlib!=3.6.1,>=3.4->seaborn) (4.57.0)\n",
      "Requirement already satisfied: kiwisolver>=1.3.1 in /opt/conda/lib/python3.12/site-packages (from matplotlib!=3.6.1,>=3.4->seaborn) (1.4.8)\n",
      "Requirement already satisfied: packaging>=20.0 in /opt/conda/lib/python3.12/site-packages (from matplotlib!=3.6.1,>=3.4->seaborn) (24.2)\n",
      "Requirement already satisfied: pillow>=8 in /opt/conda/lib/python3.12/site-packages (from matplotlib!=3.6.1,>=3.4->seaborn) (11.2.1)\n",
      "Requirement already satisfied: pyparsing>=2.3.1 in /opt/conda/lib/python3.12/site-packages (from matplotlib!=3.6.1,>=3.4->seaborn) (3.2.3)\n",
      "Requirement already satisfied: python-dateutil>=2.7 in /opt/conda/lib/python3.12/site-packages (from matplotlib!=3.6.1,>=3.4->seaborn) (2.9.0.post0)\n",
      "Requirement already satisfied: pytz>=2020.1 in /opt/conda/lib/python3.12/site-packages (from pandas>=1.2->seaborn) (2024.2)\n",
      "Requirement already satisfied: tzdata>=2022.7 in /opt/conda/lib/python3.12/site-packages (from pandas>=1.2->seaborn) (2025.2)\n",
      "Requirement already satisfied: six>=1.5 in /opt/conda/lib/python3.12/site-packages (from python-dateutil>=2.7->matplotlib!=3.6.1,>=3.4->seaborn) (1.17.0)\n"
     ]
    }
   ],
   "source": [
    "!pip install pandas\n",
    "!pip install matplotlib\n",
    "!pip install seaborn\n",
    "\n",
    "import pandas as pd\n",
    "import matplotlib.pyplot as plt\n",
    "import seaborn as sns"
   ]
  },
  {
   "cell_type": "markdown",
   "metadata": {},
   "source": [
    "#### Step 2: Load and Preview the Dataset\n",
    "Load the dataset from the provided URL. Use df.head() to display the first few rows to get an overview of the structure.\n"
   ]
  },
  {
   "cell_type": "code",
   "execution_count": null,
   "metadata": {},
   "outputs": [],
   "source": [
    "# Load the Stack Overflow survey dataset\n",
    "data_url = 'https://cf-courses-data.s3.us.cloud-object-storage.appdomain.cloud/n01PQ9pSmiRX6520flujwQ/survey-data.csv'\n",
    "df = pd.read_csv(data_url)\n",
    "\n",
    "# Set pandas option to display all columns\n",
    "pd.set_option('display.max_columns', None)\n",
    "\n",
    "# Display the first few rows of the dataset\n",
    "df.head()"
   ]
  },
  {
   "cell_type": "markdown",
   "metadata": {},
   "source": [
    "#### Step 3: Handling Missing Data\n"
   ]
  },
  {
   "cell_type": "markdown",
   "metadata": {},
   "source": [
    "Identify and manage missing values in critical columns such as `Employment`, `JobSat`, and `RemoteWork`. Implement a strategy to fill or drop these values, depending on the significance of the missing data.\n"
   ]
  },
  {
   "cell_type": "code",
   "execution_count": null,
   "metadata": {},
   "outputs": [],
   "source": [
    "## Write your code here\n",
    "import pandas as pd\n",
    "import matplotlib.pyplot as plt\n",
    "import seaborn as sns\n",
    "\n",
    "# Load the dataset\n",
    "data_url = 'https://cf-courses-data.s3.us.cloud-object-storage.appdomain.cloud/n01PQ9pSmiRX6520flujwQ/survey-data.csv'\n",
    "df = pd.read_csv(data_url)\n",
    "# Check for missing values in the critical columns\n",
    "missing_data = df[['Employment', 'JobSat', 'RemoteWork']].isnull().sum()\n",
    "print(\"Missing values in critical columns:\\n\", missing_data)\n",
    "\n",
    "# Handle missing values in 'Employment' - We can fill with 'Unknown' or drop rows\n",
    "df['Employment'].fillna('Unknown', inplace=True)\n",
    "\n",
    "# Handle missing values in 'JobSat' - We will fill with the median\n",
    "df['JobSat'].fillna(df['JobSat'].median(), inplace=True)\n",
    "\n",
    "# Handle missing values in 'RemoteWork' - We can fill with the most frequent value ('Yes' or 'No')\n",
    "df['RemoteWork'].fillna(df['RemoteWork'].mode()[0], inplace=True)\n",
    "\n",
    "# Verify the changes\n",
    "missing_data_after = df[['Employment', 'JobSat', 'RemoteWork']].isnull().sum()\n",
    "print(\"\\nMissing values after handling:\\n\", missing_data_after)\n",
    "\n",
    "# Optionally, display the first few rows of the modified dataset\n",
    "print(\"\\nFirst few rows after handling missing values:\\n\", df.head())"
   ]
  },
  {
   "cell_type": "markdown",
   "metadata": {},
   "source": [
    "#### Step 4: Analysis of Experience and Job Satisfaction\n"
   ]
  },
  {
   "cell_type": "markdown",
   "metadata": {},
   "source": [
    "Analyze the relationship between years of professional coding experience (`YearsCodePro`) and job satisfaction (`JobSat`). Summarize `YearsCodePro` and calculate median satisfaction scores based on experience ranges.\n",
    "\n",
    "- Create experience ranges for `YearsCodePro` (e.g., `0-5`, `5-10`, `10-20`, `>20` years).\n",
    "\n",
    "- Calculate the median `JobSat` for each range.\n",
    "\n",
    "- Visualize the relationship using a bar plot or similar visualization.\n"
   ]
  },
  {
   "cell_type": "code",
   "execution_count": null,
   "metadata": {},
   "outputs": [],
   "source": [
    "## Write your code here\n",
    "# Convert YearsCodePro to numeric, coercing errors to NaN (in case of invalid values)\n",
    "df['YearsCodePro'] = pd.to_numeric(df['YearsCodePro'], errors='coerce')\n",
    "\n",
    "# Create experience ranges\n",
    "bins = [0, 5, 10, 20, float('inf')]  # Define the range limits\n",
    "labels = ['0-5', '5-10', '10-20', '>20']  # Define the labels for each bin\n",
    "df['ExperienceRange'] = pd.cut(df['YearsCodePro'], bins=bins, labels=labels, right=False)\n",
    "\n",
    "# Calculate median JobSat for each experience range\n",
    "median_job_sat_by_exp = df.groupby('ExperienceRange')['JobSat'].median().reset_index()\n",
    "\n",
    "# Visualize the relationship using a bar plot\n",
    "plt.figure(figsize=(8, 6))\n",
    "sns.barplot(x='ExperienceRange', y='JobSat', data=median_job_sat_by_exp, palette='viridis')\n",
    "\n",
    "# Set plot labels and title\n",
    "plt.title('Median Job Satisfaction by Years of Professional Coding Experience')\n",
    "plt.xlabel('Years of Professional Coding Experience')\n",
    "plt.ylabel('Median Job Satisfaction')\n",
    "plt.xticks(rotation=45)\n",
    "\n",
    "# Show the plot\n",
    "plt.tight_layout()\n",
    "plt.show()\n",
    "\n",
    "# Print median job satisfaction by experience range for reference\n",
    "print(median_job_sat_by_exp)"
   ]
  },
  {
   "cell_type": "markdown",
   "metadata": {},
   "source": [
    "#### Step 5: Visualize Job Satisfaction\n"
   ]
  },
  {
   "cell_type": "markdown",
   "metadata": {},
   "source": [
    "Use a count plot to show the distribution of `JobSat` values. This provides insights into the overall satisfaction levels of respondents.\n"
   ]
  },
  {
   "cell_type": "code",
   "execution_count": null,
   "metadata": {},
   "outputs": [],
   "source": [
    "## Write your code here\n",
    "# Visualize the distribution of JobSat using a count plot\n",
    "plt.figure(figsize=(8, 6))\n",
    "sns.countplot(x='JobSat', data=df, palette='viridis')\n",
    "\n",
    "# Set plot labels and title\n",
    "plt.title('Distribution of Job Satisfaction Values')\n",
    "plt.xlabel('Job Satisfaction')\n",
    "plt.ylabel('Number of Respondents')\n",
    "plt.xticks(rotation=45)\n",
    "\n",
    "# Show the plot\n",
    "plt.tight_layout()\n",
    "plt.show()"
   ]
  },
  {
   "cell_type": "markdown",
   "metadata": {},
   "source": [
    "#### Step 6: Analyzing Remote Work Preferences by Job Role\n"
   ]
  },
  {
   "cell_type": "markdown",
   "metadata": {},
   "source": [
    "Analyze trends in remote work based on job roles. Use the `RemoteWork` and `Employment` columns to explore preferences and examine if specific job roles prefer remote work more than others.\n",
    "\n",
    "- Use a count plot to show remote work distribution.\n",
    "\n",
    "- Cross-tabulate remote work preferences by employment type (e.g., full-time, part-time) and job roles.\n"
   ]
  },
  {
   "cell_type": "code",
   "execution_count": null,
   "metadata": {},
   "outputs": [],
   "source": [
    "# Visualize the overall distribution of RemoteWork using a count plot\n",
    "plt.figure(figsize=(8, 6))\n",
    "sns.countplot(x='RemoteWork', data=df, palette='viridis')\n",
    "\n",
    "# Set plot labels and title\n",
    "plt.title('Distribution of Remote Work Preferences')\n",
    "plt.xlabel('Remote Work')\n",
    "plt.ylabel('Number of Respondents')\n",
    "plt.xticks(rotation=45)\n",
    "\n",
    "# Show the plot\n",
    "plt.tight_layout()\n",
    "plt.show()\n",
    "\n",
    "# Cross-tabulate Remote Work by Employment type and Job role\n",
    "# We will create two cross-tabulations: one for Employment Type vs Remote Work, and one for Job role vs Remote Work.\n",
    "\n",
    "# Cross-tabulation for Employment vs RemoteWork\n",
    "employment_remotework = pd.crosstab(df['Employment'], df['RemoteWork'], margins=True, margins_name=\"Total\")\n",
    "print(\"Cross-tabulation of Employment Type vs Remote Work Preferences:\\n\", employment_remotework)\n",
    "\n",
    "# Cross-tabulation for Job role vs RemoteWork\n",
    "jobrole_remotework = pd.crosstab(df['JobRole'], df['RemoteWork'], margins=True, margins_name=\"Total\")\n",
    "print(\"\\nCross-tabulation of Job Role vs Remote Work Preferences:\\n\", jobrole_remotework)\n"
   ]
  },
  {
   "cell_type": "markdown",
   "metadata": {},
   "source": [
    "#### Step 7: Analyzing Programming Language Trends by Region\n"
   ]
  },
  {
   "cell_type": "markdown",
   "metadata": {},
   "source": [
    "Analyze the popularity of programming languages by region. Use the `LanguageHaveWorkedWith` column to investigate which languages are most used in different regions.\n",
    "\n",
    "- Filter data by country or region.\n",
    "\n",
    "- Visualize the top programming languages by region with a bar plot or heatmap.\n"
   ]
  },
  {
   "cell_type": "code",
   "execution_count": null,
   "metadata": {},
   "outputs": [],
   "source": [
    "# First, we will filter the dataset for a specific region (for example, the United States)\n",
    "# Let's filter by 'Country' (you can choose any country or region)\n",
    "region = 'United States'  # Modify this to explore other regions/countries\n",
    "df_region = df[df['Country'] == region]\n",
    "\n",
    "# Split the 'LanguageHaveWorkedWith' column by commas and explode the list to get each language as a separate row\n",
    "df_region['Languages'] = df_region['LanguageHaveWorkedWith'].str.split(',')\n",
    "df_region = df_region.explode('Languages')\n",
    "\n",
    "# Strip extra whitespace around language names\n",
    "df_region['Languages'] = df_region['Languages'].str.strip()\n",
    "\n",
    "# Count the occurrences of each language in the specified region\n",
    "language_counts = df_region['Languages'].value_counts().reset_index()\n",
    "language_counts.columns = ['Language', 'Count']\n",
    "\n",
    "# Visualize the top programming languages with a bar plot\n",
    "plt.figure(figsize=(12, 8))\n",
    "sns.barplot(x='Count', y='Language', data=language_counts, palette='viridis')\n",
    "\n",
    "# Set plot labels and title\n",
    "plt.title(f'Top Programming Languages in {region}')\n",
    "plt.xlabel('Number of Respondents')\n",
    "plt.ylabel('Programming Language')\n",
    "\n",
    "# Show the plot\n",
    "plt.tight_layout()\n",
    "plt.show()\n"
   ]
  },
  {
   "cell_type": "markdown",
   "metadata": {},
   "source": [
    "#### Step 8: Correlation Between Experience and Satisfaction\n"
   ]
  },
  {
   "cell_type": "markdown",
   "metadata": {},
   "source": [
    "Examine how years of experience (`YearsCodePro`) correlate with job satisfaction (`JobSatPoints_1`). Use a scatter plot to visualize this relationship.\n"
   ]
  },
  {
   "cell_type": "code",
   "execution_count": null,
   "metadata": {},
   "outputs": [],
   "source": [
    "# Ensure 'YearsCodePro' and 'JobSatPoints_1' are numeric and handle any errors (convert invalid values to NaN)\n",
    "df['YearsCodePro'] = pd.to_numeric(df['YearsCodePro'], errors='coerce')\n",
    "df['JobSatPoints_1'] = pd.to_numeric(df['JobSatPoints_1'], errors='coerce')\n",
    "\n",
    "# Drop rows with missing values for 'YearsCodePro' or 'JobSatPoints_1'\n",
    "df_clean = df.dropna(subset=['YearsCodePro', 'JobSatPoints_1'])\n",
    "\n",
    "# Create a scatter plot to visualize the relationship between years of experience and job satisfaction\n",
    "plt.figure(figsize=(10, 6))\n",
    "sns.scatterplot(x='YearsCodePro', y='JobSatPoints_1', data=df_clean, color='blue', alpha=0.6)\n",
    "\n",
    "# Set plot labels and title\n",
    "plt.title('Relationship between Years of Experience and Job Satisfaction')\n",
    "plt.xlabel('Years of Professional Coding Experience')\n",
    "plt.ylabel('Job Satisfaction')\n",
    "\n",
    "# Show the plot\n",
    "plt.tight_layout()\n",
    "plt.show()\n"
   ]
  },
  {
   "cell_type": "markdown",
   "metadata": {},
   "source": [
    "#### Step 9: Educational Background and Employment Type\n"
   ]
  },
  {
   "cell_type": "markdown",
   "metadata": {},
   "source": [
    "Explore how educational background (`EdLevel`) relates to employment type (`Employment`). Use cross-tabulation and visualizations to understand if higher education correlates with specific employment types.\n"
   ]
  },
  {
   "cell_type": "code",
   "execution_count": null,
   "metadata": {},
   "outputs": [],
   "source": [
    "# Cross-tabulate the relationship between EdLevel and Employment\n",
    "education_employment_crosstab = pd.crosstab(df['EdLevel'], df['Employment'], margins=True, margins_name=\"Total\")\n",
    "\n",
    "# Print the cross-tabulation\n",
    "print(\"Cross-tabulation of Education Level and Employment Type:\\n\", education_employment_crosstab)\n",
    "\n",
    "# Visualize the relationship using a stacked bar plot\n",
    "education_employment_crosstab = education_employment_crosstab.drop('Total', axis=1)  # Drop the 'Total' column for plotting\n",
    "education_employment_crosstab.plot(kind='bar', stacked=True, figsize=(12, 8), colormap='viridis')\n",
    "\n",
    "# Set plot labels and title\n",
    "plt.title('Education Level vs Employment Type')\n",
    "plt.xlabel('Education Level')\n",
    "plt.ylabel('Number of Respondents')\n",
    "plt.xticks(rotation=45)\n",
    "\n",
    "# Show the plot\n",
    "plt.tight_layout()\n",
    "plt.show()\n",
    "\n",
    "# Optionally, create a heatmap for a more compact visualization\n",
    "plt.figure(figsize=(10, 8))\n",
    "sns.heatmap(education_employment_crosstab, annot=True, cmap='viridis', fmt='d', cbar=False, linewidths=0.5)\n",
    "\n",
    "# Set plot labels and title for heatmap\n",
    "plt.title('Heatmap of Education Level vs Employment Type')\n",
    "plt.xlabel('Employment Type')\n",
    "plt.ylabel('Education Level')\n",
    "\n",
    "# Show the heatmap\n",
    "plt.tight_layout()\n",
    "plt.show()\n"
   ]
  },
  {
   "cell_type": "markdown",
   "metadata": {},
   "source": [
    "#### Step 10: Save the Cleaned and Analyzed Dataset\n"
   ]
  },
  {
   "cell_type": "markdown",
   "metadata": {},
   "source": [
    "After your analysis, save the modified dataset for further use or sharing.\n"
   ]
  },
  {
   "cell_type": "code",
   "execution_count": null,
   "metadata": {},
   "outputs": [],
   "source": [
    "## Write your code here\n",
    "# Save the cleaned and modified dataset to a new CSV file\n",
    "modified_data_path = 'modified_survey_data.csv'\n",
    "df_clean.to_csv(modified_data_path, index=False)\n",
    "\n",
    "print(f\"The modified dataset has been saved to {modified_data_path}\")\n"
   ]
  },
  {
   "cell_type": "markdown",
   "metadata": {},
   "source": [
    "<h2>Summary</h2>\n"
   ]
  },
  {
   "cell_type": "markdown",
   "metadata": {},
   "source": [
    "In this revised lab, you:\n",
    "\n",
    "- Loaded and explored the structure of the dataset.\n",
    "\n",
    "- Handled missing data effectively.\n",
    "\n",
    "- Analyzed key variables, including working hours, job satisfaction, and remote work trends.\n",
    "\n",
    "- Investigated programming language usage by region and examined the relationship between experience and satisfaction.\n",
    "\n",
    "- Used cross-tabulation to understand educational background and employment type.\n"
   ]
  },
  {
   "cell_type": "markdown",
   "metadata": {},
   "source": [
    "Copyright © IBM Corporation. All rights reserved.\n"
   ]
  }
 ],
 "metadata": {
  "kernelspec": {
   "display_name": "Python 3 (ipykernel)",
   "language": "python",
   "name": "python3"
  },
  "language_info": {
   "codemirror_mode": {
    "name": "ipython",
    "version": 3
   },
   "file_extension": ".py",
   "mimetype": "text/x-python",
   "name": "python",
   "nbconvert_exporter": "python",
   "pygments_lexer": "ipython3",
   "version": "3.12.8"
  },
  "prev_pub_hash": "2a4f0935f8d3cf9549d9e18dbbd812b8dd5a034c94517c8adba13875f8268801"
 },
 "nbformat": 4,
 "nbformat_minor": 4
}
